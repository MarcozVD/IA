{
 "cells": [
  {
   "cell_type": "code",
   "execution_count": 3,
   "id": "5a2b68a3",
   "metadata": {},
   "outputs": [
    {
     "name": "stdout",
     "output_type": "stream",
     "text": [
      "   Estudiante  Edad     Género  Nota_Matemáticas  Nota_Ciencias  Nota_Inglés\n",
      "15        E16    20   Femenino              58.4           83.7         74.6\n",
      "16        E17    23   Femenino              75.7           64.9         34.3\n",
      "17        E18    22  Masculino              63.0           68.8         81.0\n",
      "18        E19    19  Masculino              56.2           74.5         51.0\n",
      "19        E20    21  Masculino              66.5           71.7         76.8\n",
      "(20, 6)\n"
     ]
    }
   ],
   "source": [
    "import pandas as pd\n",
    "import numpy as np\n",
    "\n",
    "# Crear un dataset simulado\n",
    "np.random.seed(42)\n",
    "data = {\n",
    "    \"Estudiante\": [f\"E{i}\" for i in range(1, 21)],\n",
    "    \"Edad\": np.random.randint(18, 25, size=20),\n",
    "    \"Género\": np.random.choice([\"Femenino\", \"Masculino\"], size=20),\n",
    "    \"Nota_Matemáticas\": np.random.normal(70, 10, size=20).round(1),\n",
    "    \"Nota_Ciencias\": np.random.normal(75, 12, size=20).round(1),\n",
    "    \"Nota_Inglés\": np.random.normal(65, 15, size=20).round(1),\n",
    "}\n",
    "#data\n",
    "data=pd.DataFrame(data)\n",
    "print(data.tail())\n",
    "print(data.shape)# filas, columnas"
   ]
  },
  {
   "cell_type": "code",
   "execution_count": 4,
   "id": "cf8dcd94",
   "metadata": {},
   "outputs": [
    {
     "data": {
      "text/plain": [
       "Index(['RowNumber', 'CustomerId', 'Surname', 'CreditScore', 'Geography',\n",
       "       'Gender', 'Age', 'Tenure', 'Balance', 'NumOfProducts', 'HasCrCard',\n",
       "       'IsActiveMember', 'EstimatedSalary', 'Exited'],\n",
       "      dtype='object')"
      ]
     },
     "execution_count": 4,
     "metadata": {},
     "output_type": "execute_result"
    }
   ],
   "source": [
    "clientes=pd.read_csv(\"https://raw.githubusercontent.com/adiacla/bigdata/refs/heads/master/Churn_Modelling.csv\") #importo un data de github\n",
    "clientes.tail()#ultimos 5, heat primeros 5\n",
    "clientes.shape\n",
    "clientes.shape[0]#filas\n",
    "clientes.shape[1]# columnas\n",
    "clientes.size #tamaño del dataset\n",
    "clientes.columns # nombre de las columnas\n"
   ]
  },
  {
   "cell_type": "code",
   "execution_count": 5,
   "id": "b1cd5084",
   "metadata": {},
   "outputs": [
    {
     "data": {
      "text/plain": [
       "Estudiante           object\n",
       "Edad                  int32\n",
       "Género               object\n",
       "Nota_Matemáticas    float64\n",
       "Nota_Ciencias       float64\n",
       "Nota_Inglés         float64\n",
       "dtype: object"
      ]
     },
     "execution_count": 5,
     "metadata": {},
     "output_type": "execute_result"
    }
   ],
   "source": [
    "df= pd.DataFrame(data)# lo vuelvo un data frame\n",
    "df.head()\n",
    "df.dtypes#muestra el tipo de dato\n",
    "df[\"Estudiante\"]=df[\"Estudiante\"].astype(str)# cambio el tipo de dato\n",
    "df.dtypes"
   ]
  },
  {
   "cell_type": "code",
   "execution_count": 6,
   "id": "6ac7720e",
   "metadata": {},
   "outputs": [
    {
     "data": {
      "text/html": [
       "<div>\n",
       "<style scoped>\n",
       "    .dataframe tbody tr th:only-of-type {\n",
       "        vertical-align: middle;\n",
       "    }\n",
       "\n",
       "    .dataframe tbody tr th {\n",
       "        vertical-align: top;\n",
       "    }\n",
       "\n",
       "    .dataframe thead th {\n",
       "        text-align: right;\n",
       "    }\n",
       "</style>\n",
       "<table border=\"1\" class=\"dataframe\">\n",
       "  <thead>\n",
       "    <tr style=\"text-align: right;\">\n",
       "      <th></th>\n",
       "      <th>Estudiante</th>\n",
       "      <th>Género</th>\n",
       "    </tr>\n",
       "  </thead>\n",
       "  <tbody>\n",
       "    <tr>\n",
       "      <th>count</th>\n",
       "      <td>20</td>\n",
       "      <td>20</td>\n",
       "    </tr>\n",
       "    <tr>\n",
       "      <th>unique</th>\n",
       "      <td>20</td>\n",
       "      <td>2</td>\n",
       "    </tr>\n",
       "    <tr>\n",
       "      <th>top</th>\n",
       "      <td>E1</td>\n",
       "      <td>Masculino</td>\n",
       "    </tr>\n",
       "    <tr>\n",
       "      <th>freq</th>\n",
       "      <td>1</td>\n",
       "      <td>12</td>\n",
       "    </tr>\n",
       "  </tbody>\n",
       "</table>\n",
       "</div>"
      ],
      "text/plain": [
       "       Estudiante     Género\n",
       "count          20         20\n",
       "unique         20          2\n",
       "top            E1  Masculino\n",
       "freq            1         12"
      ]
     },
     "execution_count": 6,
     "metadata": {},
     "output_type": "execute_result"
    }
   ],
   "source": [
    "df.describe()# muestra las estadisticas del df\n",
    "df.describe(include=object)# espesifica que tipo de dato quieres ver\n"
   ]
  },
  {
   "cell_type": "code",
   "execution_count": 7,
   "id": "47f05405",
   "metadata": {},
   "outputs": [
    {
     "name": "stdout",
     "output_type": "stream",
     "text": [
      "12\n",
      "8\n",
      "60.0\n",
      "40.0\n"
     ]
    },
    {
     "data": {
      "text/plain": [
       "np.int64(20)"
      ]
     },
     "execution_count": 7,
     "metadata": {},
     "output_type": "execute_result"
    }
   ],
   "source": [
    "contargenero=df.Género.value_counts(ascending=False)# total de datos de cada genero\n",
    "contargenero\n",
    "print(contargenero['Masculino'])#espesifica el genero\n",
    "print(contargenero['Femenino'])\n",
    "total=contargenero['Femenino']+contargenero['Masculino']\n",
    "porcentajeH=(contargenero['Masculino']/total)*100\n",
    "porcentajeF=(contargenero['Femenino']/total)*100\n",
    "print(porcentajeH)\n",
    "print(porcentajeF)\n",
    "df.Género.count()"
   ]
  },
  {
   "cell_type": "code",
   "execution_count": 8,
   "id": "c9008bd4",
   "metadata": {},
   "outputs": [
    {
     "data": {
      "text/plain": [
       "<BarContainer object of 2 artists>"
      ]
     },
     "execution_count": 8,
     "metadata": {},
     "output_type": "execute_result"
    },
    {
     "data": {
      "image/png": "[encoded data removed]",
      "text/plain": [
       "<Figure size 640x480 with 1 Axes>"
      ]
     },
     "metadata": {},
     "output_type": "display_data"
    }
   ],
   "source": [
    "#sacar el porcentaje de género\n",
    "from matplotlib import pyplot as plt    #grafico de barras\n",
    "cantidad=df.Género.value_counts(normalize=True)\n",
    "plt.bar(cantidad.index, cantidad.values)\n",
    "#df[\"Género\"].value_counts()"
   ]
  },
  {
   "cell_type": "code",
   "execution_count": 9,
   "id": "2af5ba3c",
   "metadata": {},
   "outputs": [
    {
     "data": {
      "text/plain": [
       "<Axes: ylabel='count'>"
      ]
     },
     "execution_count": 9,
     "metadata": {},
     "output_type": "execute_result"
    },
    {
     "data": {
      "image/png": "[encoded data removed]",
      "text/plain": [
       "<Figure size 640x480 with 1 Axes>"
      ]
     },
     "metadata": {},
     "output_type": "display_data"
    }
   ],
   "source": [
    "from enum import auto #grafico de pastel\n",
    "contargenero.plot(kind=\"pie\",autopct=\"%1.1f%%\", colors=[\"lightgreen\", \"aqua\"], startangle=0)"
   ]
  },
  {
   "cell_type": "code",
   "execution_count": null,
   "id": "a5e983fc",
   "metadata": {},
   "outputs": [
    {
     "name": "stdout",
     "output_type": "stream",
     "text": [
      "Nota_Matemáticas    69.35\n",
      "Nota_Ciencias       75.90\n",
      "Nota_Inglés         71.60\n",
      "dtype: float64\n",
      "la materia con merjor mediana es Nota_Ciencias con la nota 75.9\n",
      "la materia con peor mediana es Nota_Matemáticas con la nota de 69.35\n"
     ]
    }
   ],
   "source": [
    "medianas=df.select_dtypes(np.number).drop(columns=['Edad']).median()\n",
    "\n",
    "materia_mejor=medianas.idxmax()# id de la materia con mejor mediana\n",
    "mejor_mediana=medianas.max() # nota de la materia con mejor mediana\n",
    "\n",
    "materia_peor=medianas.idxmin()\n",
    "peor_mediana=medianas.min()\n",
    "\n",
    "print(medianas)\n",
    "print(f\"la materia con merjor mediana es {materia_mejor} con la nota {mejor_mediana}\")\n",
    "print(f'la materia con peor mediana es {materia_peor} con la nota de {peor_mediana}')\n"
   ]
  },
  {
   "cell_type": "code",
   "execution_count": 12,
   "id": "d1f02e58",
   "metadata": {},
   "outputs": [
    {
     "data": {
      "image/png": "[encoded data removed]",
      "text/plain": [
       "<Figure size 640x480 with 1 Axes>"
      ]
     },
     "metadata": {},
     "output_type": "display_data"
    },
    {
     "data": {
      "image/png": "[encoded data removed]",
      "text/plain": [
       "<Figure size 640x480 with 1 Axes>"
      ]
     },
     "metadata": {},
     "output_type": "display_data"
    },
    {
     "data": {
      "image/png": "[encoded data removed]",
      "text/plain": [
       "<Figure size 640x480 with 1 Axes>"
      ]
     },
     "metadata": {},
     "output_type": "display_data"
    }
   ],
   "source": [
    "import seaborn as sns\n",
    "import matplotlib.pyplot as plt\n",
    "\n",
    "# Histograma de edades\n",
    "sns.histplot(df['Edad'], bins=4, kde=True, color='aqua')\n",
    "plt.title(\"Distribución de Edad\")\n",
    "plt.show()\n",
    "\n",
    "# Gráfico de dispersión: Nota_Matemáticas vs Nota_Ciencias\n",
    "sns.scatterplot(x=\"Nota_Matemáticas\", y=\"Nota_Ciencias\", hue=\"Género\", data=df)\n",
    "plt.title(\"Relación entre Matemáticas y Ciencias\")\n",
    "plt.show()\n",
    "\n",
    "# Boxplot de notas por género\n",
    "sns.boxplot(x=\"Género\", y=\"Nota_Matemáticas\", data=df)\n",
    "plt.title(\"Distribución de Notas de Matemáticas por Género\")\n",
    "plt.show()"
   ]
  },
  {
   "cell_type": "code",
   "execution_count": 13,
   "id": "8d8fb0f4",
   "metadata": {},
   "outputs": [
    {
     "name": "stdout",
     "output_type": "stream",
     "text": [
      "Conteo de valores por género:\n",
      "Género\n",
      "Masculino    12\n",
      "Femenino      8\n",
      "Name: count, dtype: int64\n"
     ]
    },
    {
     "name": "stderr",
     "output_type": "stream",
     "text": [
      "C:\\Users\\mvale\\AppData\\Local\\Temp\\ipykernel_26372\\833936254.py:11: FutureWarning: \n",
      "\n",
      "Passing `palette` without assigning `hue` is deprecated and will be removed in v0.14.0. Assign the `x` variable to `hue` and set `legend=False` for the same effect.\n",
      "\n",
      "  sns.barplot(x=genero_counts.index, y=genero_counts.values, palette=\"pastel\")\n"
     ]
    },
    {
     "data": {
      "image/png": "[encoded data removed]",
      "text/plain": [
       "<Figure size 640x480 with 1 Axes>"
      ]
     },
     "metadata": {},
     "output_type": "display_data"
    }
   ],
   "source": [
    "import seaborn as sns\n",
    "import matplotlib.pyplot as plt\n",
    "\n",
    "# Conteo de valores únicos en la columna \"Género\"\n",
    "genero_counts = df[\"Género\"].value_counts()\n",
    "\n",
    "print(\"Conteo de valores por género:\")\n",
    "print(genero_counts)\n",
    "\n",
    "# Gráfico de barras para visualizar el conteo de género\n",
    "sns.barplot(x=genero_counts.index, y=genero_counts.values, palette=\"pastel\")\n",
    "plt.title(\"Distribución por Género\")\n",
    "plt.xlabel(\"Género\")\n",
    "plt.ylabel(\"Conteo\")\n",
    "plt.show()"
   ]
  },
  {
   "cell_type": "code",
   "execution_count": null,
   "id": "c4ff972c",
   "metadata": {},
   "outputs": [
    {
     "name": "stdout",
     "output_type": "stream",
     "text": [
      "[24 21 22 20 19 23]\n",
      "6\n"
     ]
    }
   ],
   "source": [
    "valores_unicos=df.Edad.unique()# valores que solo estan 1 vez\n",
    "conteo_valores_unicos=df.Edad.nunique() # conteo de los valores unicos\n",
    "print(valores_unicos)\n",
    "print(conteo_valores_unicos)"
   ]
  },
  {
   "cell_type": "code",
   "execution_count": 20,
   "id": "dbe99b0b",
   "metadata": {},
   "outputs": [
    {
     "data": {
      "text/html": [
       "<div>\n",
       "<style scoped>\n",
       "    .dataframe tbody tr th:only-of-type {\n",
       "        vertical-align: middle;\n",
       "    }\n",
       "\n",
       "    .dataframe tbody tr th {\n",
       "        vertical-align: top;\n",
       "    }\n",
       "\n",
       "    .dataframe thead th {\n",
       "        text-align: right;\n",
       "    }\n",
       "</style>\n",
       "<table border=\"1\" class=\"dataframe\">\n",
       "  <thead>\n",
       "    <tr style=\"text-align: right;\">\n",
       "      <th></th>\n",
       "      <th>Nota_Matemáticas</th>\n",
       "      <th>Nota_Ciencias</th>\n",
       "      <th>Nota_Inglés</th>\n",
       "    </tr>\n",
       "  </thead>\n",
       "  <tbody>\n",
       "    <tr>\n",
       "      <th>1</th>\n",
       "      <td>62.3</td>\n",
       "      <td>75.8</td>\n",
       "      <td>53.1</td>\n",
       "    </tr>\n",
       "    <tr>\n",
       "      <th>2</th>\n",
       "      <td>71.4</td>\n",
       "      <td>72.9</td>\n",
       "      <td>79.0</td>\n",
       "    </tr>\n",
       "    <tr>\n",
       "      <th>4</th>\n",
       "      <td>81.3</td>\n",
       "      <td>83.4</td>\n",
       "      <td>75.5</td>\n",
       "    </tr>\n",
       "    <tr>\n",
       "      <th>5</th>\n",
       "      <td>69.0</td>\n",
       "      <td>72.9</td>\n",
       "      <td>67.6</td>\n",
       "    </tr>\n",
       "    <tr>\n",
       "      <th>6</th>\n",
       "      <td>64.7</td>\n",
       "      <td>64.1</td>\n",
       "      <td>74.9</td>\n",
       "    </tr>\n",
       "    <tr>\n",
       "      <th>8</th>\n",
       "      <td>49.7</td>\n",
       "      <td>84.4</td>\n",
       "      <td>62.5</td>\n",
       "    </tr>\n",
       "    <tr>\n",
       "      <th>9</th>\n",
       "      <td>81.2</td>\n",
       "      <td>106.9</td>\n",
       "      <td>82.5</td>\n",
       "    </tr>\n",
       "    <tr>\n",
       "      <th>11</th>\n",
       "      <td>59.0</td>\n",
       "      <td>94.7</td>\n",
       "      <td>53.5</td>\n",
       "    </tr>\n",
       "    <tr>\n",
       "      <th>12</th>\n",
       "      <td>81.3</td>\n",
       "      <td>80.5</td>\n",
       "      <td>83.2</td>\n",
       "    </tr>\n",
       "    <tr>\n",
       "      <th>13</th>\n",
       "      <td>73.7</td>\n",
       "      <td>76.0</td>\n",
       "      <td>83.5</td>\n",
       "    </tr>\n",
       "    <tr>\n",
       "      <th>14</th>\n",
       "      <td>66.1</td>\n",
       "      <td>56.9</td>\n",
       "      <td>41.4</td>\n",
       "    </tr>\n",
       "    <tr>\n",
       "      <th>15</th>\n",
       "      <td>58.4</td>\n",
       "      <td>83.7</td>\n",
       "      <td>74.6</td>\n",
       "    </tr>\n",
       "    <tr>\n",
       "      <th>17</th>\n",
       "      <td>63.0</td>\n",
       "      <td>68.8</td>\n",
       "      <td>81.0</td>\n",
       "    </tr>\n",
       "    <tr>\n",
       "      <th>18</th>\n",
       "      <td>56.2</td>\n",
       "      <td>74.5</td>\n",
       "      <td>51.0</td>\n",
       "    </tr>\n",
       "    <tr>\n",
       "      <th>19</th>\n",
       "      <td>66.5</td>\n",
       "      <td>71.7</td>\n",
       "      <td>76.8</td>\n",
       "    </tr>\n",
       "  </tbody>\n",
       "</table>\n",
       "</div>"
      ],
      "text/plain": [
       "    Nota_Matemáticas  Nota_Ciencias  Nota_Inglés\n",
       "1               62.3           75.8         53.1\n",
       "2               71.4           72.9         79.0\n",
       "4               81.3           83.4         75.5\n",
       "5               69.0           72.9         67.6\n",
       "6               64.7           64.1         74.9\n",
       "8               49.7           84.4         62.5\n",
       "9               81.2          106.9         82.5\n",
       "11              59.0           94.7         53.5\n",
       "12              81.3           80.5         83.2\n",
       "13              73.7           76.0         83.5\n",
       "14              66.1           56.9         41.4\n",
       "15              58.4           83.7         74.6\n",
       "17              63.0           68.8         81.0\n",
       "18              56.2           74.5         51.0\n",
       "19              66.5           71.7         76.8"
      ]
     },
     "execution_count": 20,
     "metadata": {},
     "output_type": "execute_result"
    }
   ],
   "source": [
    "df[(df.Edad)<23].iloc[:,-3:] #seleciona los datos que tengan una edad menor a 23\n",
    "# el -3 selecciona las ultimas 3 columnas"
   ]
  },
  {
   "cell_type": "code",
   "execution_count": null,
   "id": "6f501bd9",
   "metadata": {},
   "outputs": [
    {
     "data": {
      "image/png": "[encoded data removed]",
      "text/plain": [
       "<Figure size 640x480 with 1 Axes>"
      ]
     },
     "metadata": {},
     "output_type": "display_data"
    }
   ],
   "source": [
    "edad_counts=df['Edad'].value_counts()\n",
    "edad_counts\n",
    "sns.barplot(x=edad_counts.index,y=edad_counts.values,hue=edad_counts.values)#hue es la coso pequeño en la esquina superior\n",
    "plt.title('Frecuencia de edades')\n",
    "plt.xlabel=(\"Edades\")\n",
    "plt.ylabel('Frecuencia')\n",
    "plt.show()"
   ]
  },
  {
   "cell_type": "code",
   "execution_count": null,
   "id": "0c0ac6ec",
   "metadata": {},
   "outputs": [
    {
     "data": {
      "image/png": "[encoded data removed]",
      "text/plain": [
       "<Figure size 640x480 with 1 Axes>"
      ]
     },
     "metadata": {},
     "output_type": "display_data"
    }
   ],
   "source": [
    "sns.boxplot(data=df[[\"Nota_Matemáticas\", \"Nota_Ciencias\", \"Nota_Inglés\"]], palette=\"coolwarm\")\n",
    "plt.title('Resumen de notas')\n",
    "plt.ylabel('Calificaciones')\n",
    "plt.show()"
   ]
  },
  {
   "cell_type": "code",
   "execution_count": null,
   "id": "85766fe9",
   "metadata": {},
   "outputs": [
    {
     "data": {
      "text/html": [
       "<div>\n",
       "<style scoped>\n",
       "    .dataframe tbody tr th:only-of-type {\n",
       "        vertical-align: middle;\n",
       "    }\n",
       "\n",
       "    .dataframe tbody tr th {\n",
       "        vertical-align: top;\n",
       "    }\n",
       "\n",
       "    .dataframe thead th {\n",
       "        text-align: right;\n",
       "    }\n",
       "</style>\n",
       "<table border=\"1\" class=\"dataframe\">\n",
       "  <thead>\n",
       "    <tr style=\"text-align: right;\">\n",
       "      <th></th>\n",
       "      <th>Estudiante</th>\n",
       "      <th>Edad</th>\n",
       "      <th>Género</th>\n",
       "      <th>Nota_Matemáticas</th>\n",
       "      <th>Nota_Ciencias</th>\n",
       "      <th>Nota_Inglés</th>\n",
       "    </tr>\n",
       "  </thead>\n",
       "  <tbody>\n",
       "    <tr>\n",
       "      <th>9</th>\n",
       "      <td>E10</td>\n",
       "      <td>20</td>\n",
       "      <td>Masculino</td>\n",
       "      <td>81.2</td>\n",
       "      <td>106.9</td>\n",
       "      <td>82.5</td>\n",
       "    </tr>\n",
       "  </tbody>\n",
       "</table>\n",
       "</div>"
      ],
      "text/plain": [
       "  Estudiante  Edad     Género  Nota_Matemáticas  Nota_Ciencias  Nota_Inglés\n",
       "9        E10    20  Masculino              81.2          106.9         82.5"
      ]
     },
     "execution_count": 34,
     "metadata": {},
     "output_type": "execute_result"
    }
   ],
   "source": [
    "df[(df.Nota_Ciencias)>100] #condicional que muestra las notas mayores a 100"
   ]
  },
  {
   "cell_type": "code",
   "execution_count": null,
   "id": "a803b9c6",
   "metadata": {},
   "outputs": [
    {
     "data": {
      "text/plain": [
       "Estudiante                E10\n",
       "Edad                       20\n",
       "Género              Masculino\n",
       "Nota_Matemáticas         81.2\n",
       "Nota_Ciencias           100.0\n",
       "Nota_Inglés              82.5\n",
       "Name: 9, dtype: object"
      ]
     },
     "execution_count": 35,
     "metadata": {},
     "output_type": "execute_result"
    }
   ],
   "source": [
    "df.loc[df.index[9],'Nota_Ciencias']=100 #cambia el valor de la nota de ciencias en el index 9\n",
    "df.iloc[9] # mostramos todos los datos de ese index"
   ]
  },
  {
   "cell_type": "code",
   "execution_count": 62,
   "id": "9cf50d3d",
   "metadata": {},
   "outputs": [
    {
     "name": "stdout",
     "output_type": "stream",
     "text": [
      "Info del dataset\n",
      "<class 'pandas.core.frame.DataFrame'>\n",
      "RangeIndex: 20 entries, 0 to 19\n",
      "Data columns (total 7 columns):\n",
      " #   Column            Non-Null Count  Dtype  \n",
      "---  ------            --------------  -----  \n",
      " 0   Estudiante        20 non-null     object \n",
      " 1   Edad              20 non-null     int32  \n",
      " 2   Género            20 non-null     object \n",
      " 3   Nota_Matemáticas  20 non-null     float64\n",
      " 4   Nota_Ciencias     20 non-null     float64\n",
      " 5   Nota_Inglés       20 non-null     float64\n",
      " 6   Notas_Ciencias    0 non-null      float64\n",
      "dtypes: float64(4), int32(1), object(2)\n",
      "memory usage: 1.1+ KB\n"
     ]
    }
   ],
   "source": [
    "print('Info del dataset')\n",
    "df.info() # muestra la info del dataset"
   ]
  },
  {
   "cell_type": "code",
   "execution_count": 70,
   "id": "879bb9dc",
   "metadata": {},
   "outputs": [
    {
     "data": {
      "text/plain": [
       "Estudiante           0\n",
       "Edad                 0\n",
       "Género               0\n",
       "Nota_Matemáticas     0\n",
       "Nota_Ciencias        1\n",
       "Nota_Inglés          0\n",
       "Notas_Ciencias      20\n",
       "dtype: int64"
      ]
     },
     "execution_count": 70,
     "metadata": {},
     "output_type": "execute_result"
    }
   ],
   "source": [
    "df.loc[df.index[4],'Nota_Ciencias']=np.nan #vuelve vuelve el index en nulo\n",
    "df.head()\n",
    "df.isnull()#muestra cuales valores son nulos con true y false\n",
    "valores_nulos=df.isnull().sum()# nulos por columnas\n",
    "valores_nulos"
   ]
  },
  {
   "cell_type": "code",
   "execution_count": null,
   "id": "73f53cf0",
   "metadata": {},
   "outputs": [
    {
     "data": {
      "text/html": [
       "<div>\n",
       "<style scoped>\n",
       "    .dataframe tbody tr th:only-of-type {\n",
       "        vertical-align: middle;\n",
       "    }\n",
       "\n",
       "    .dataframe tbody tr th {\n",
       "        vertical-align: top;\n",
       "    }\n",
       "\n",
       "    .dataframe thead th {\n",
       "        text-align: right;\n",
       "    }\n",
       "</style>\n",
       "<table border=\"1\" class=\"dataframe\">\n",
       "  <thead>\n",
       "    <tr style=\"text-align: right;\">\n",
       "      <th></th>\n",
       "      <th>Estudiante</th>\n",
       "      <th>Edad</th>\n",
       "      <th>Género</th>\n",
       "      <th>Nota_Matemáticas</th>\n",
       "      <th>Nota_Ciencias</th>\n",
       "      <th>Nota_Inglés</th>\n",
       "      <th>Notas_Ciencias</th>\n",
       "    </tr>\n",
       "  </thead>\n",
       "  <tbody>\n",
       "    <tr>\n",
       "      <th>0</th>\n",
       "      <td>E1</td>\n",
       "      <td>24</td>\n",
       "      <td>Masculino</td>\n",
       "      <td>72.2</td>\n",
       "      <td>69.5</td>\n",
       "      <td>41.6</td>\n",
       "      <td>NaN</td>\n",
       "    </tr>\n",
       "    <tr>\n",
       "      <th>1</th>\n",
       "      <td>E2</td>\n",
       "      <td>21</td>\n",
       "      <td>Masculino</td>\n",
       "      <td>62.3</td>\n",
       "      <td>75.8</td>\n",
       "      <td>53.1</td>\n",
       "      <td>NaN</td>\n",
       "    </tr>\n",
       "    <tr>\n",
       "      <th>2</th>\n",
       "      <td>E3</td>\n",
       "      <td>22</td>\n",
       "      <td>Masculino</td>\n",
       "      <td>71.4</td>\n",
       "      <td>72.9</td>\n",
       "      <td>79.0</td>\n",
       "      <td>NaN</td>\n",
       "    </tr>\n",
       "    <tr>\n",
       "      <th>3</th>\n",
       "      <td>E4</td>\n",
       "      <td>24</td>\n",
       "      <td>Masculino</td>\n",
       "      <td>69.7</td>\n",
       "      <td>89.4</td>\n",
       "      <td>75.2</td>\n",
       "      <td>NaN</td>\n",
       "    </tr>\n",
       "    <tr>\n",
       "      <th>4</th>\n",
       "      <td>E5</td>\n",
       "      <td>20</td>\n",
       "      <td>Masculino</td>\n",
       "      <td>81.3</td>\n",
       "      <td>75.8</td>\n",
       "      <td>75.5</td>\n",
       "      <td>NaN</td>\n",
       "    </tr>\n",
       "  </tbody>\n",
       "</table>\n",
       "</div>"
      ],
      "text/plain": [
       "  Estudiante  Edad     Género  Nota_Matemáticas  Nota_Ciencias  Nota_Inglés  \\\n",
       "0         E1    24  Masculino              72.2           69.5         41.6   \n",
       "1         E2    21  Masculino              62.3           75.8         53.1   \n",
       "2         E3    22  Masculino              71.4           72.9         79.0   \n",
       "3         E4    24  Masculino              69.7           89.4         75.2   \n",
       "4         E5    20  Masculino              81.3           75.8         75.5   \n",
       "\n",
       "   Notas_Ciencias  \n",
       "0             NaN  \n",
       "1             NaN  \n",
       "2             NaN  \n",
       "3             NaN  \n",
       "4             NaN  "
      ]
     },
     "execution_count": 73,
     "metadata": {},
     "output_type": "execute_result"
    }
   ],
   "source": [
    "df[df.Notas_Ciencias.isnull()]#buscamos cual es null\n",
    "df.loc[df.index[4],'Nota_Ciencias']=df.Nota_Ciencias.median()#le damos el valor de la media al null\n",
    "df.head()"
   ]
  },
  {
   "cell_type": "code",
   "execution_count": 74,
   "id": "8add5fe5",
   "metadata": {},
   "outputs": [
    {
     "data": {
      "text/html": [
       "<div>\n",
       "<style scoped>\n",
       "    .dataframe tbody tr th:only-of-type {\n",
       "        vertical-align: middle;\n",
       "    }\n",
       "\n",
       "    .dataframe tbody tr th {\n",
       "        vertical-align: top;\n",
       "    }\n",
       "\n",
       "    .dataframe thead th {\n",
       "        text-align: right;\n",
       "    }\n",
       "</style>\n",
       "<table border=\"1\" class=\"dataframe\">\n",
       "  <thead>\n",
       "    <tr style=\"text-align: right;\">\n",
       "      <th></th>\n",
       "      <th>Nota_Matemáticas</th>\n",
       "      <th>Nota_Ciencias</th>\n",
       "      <th>Nota_Inglés</th>\n",
       "    </tr>\n",
       "    <tr>\n",
       "      <th>Género</th>\n",
       "      <th></th>\n",
       "      <th></th>\n",
       "      <th></th>\n",
       "    </tr>\n",
       "  </thead>\n",
       "  <tbody>\n",
       "    <tr>\n",
       "      <th>Femenino</th>\n",
       "      <td>81.3</td>\n",
       "      <td>83.7</td>\n",
       "      <td>83.5</td>\n",
       "    </tr>\n",
       "    <tr>\n",
       "      <th>Masculino</th>\n",
       "      <td>89.1</td>\n",
       "      <td>100.0</td>\n",
       "      <td>82.5</td>\n",
       "    </tr>\n",
       "  </tbody>\n",
       "</table>\n",
       "</div>"
      ],
      "text/plain": [
       "           Nota_Matemáticas  Nota_Ciencias  Nota_Inglés\n",
       "Género                                                 \n",
       "Femenino               81.3           83.7         83.5\n",
       "Masculino              89.1          100.0         82.5"
      ]
     },
     "execution_count": 74,
     "metadata": {},
     "output_type": "execute_result"
    }
   ],
   "source": [
    "promedios_genero=df.groupby('Género')[[\"Nota_Matemáticas\", \"Nota_Ciencias\", \"Nota_Inglés\"]].max()\n",
    "promedios_genero"
   ]
  },
  {
   "cell_type": "code",
   "execution_count": null,
   "id": "573e880e",
   "metadata": {},
   "outputs": [
    {
     "data": {
      "text/html": [
       "<div>\n",
       "<style scoped>\n",
       "    .dataframe tbody tr th:only-of-type {\n",
       "        vertical-align: middle;\n",
       "    }\n",
       "\n",
       "    .dataframe tbody tr th {\n",
       "        vertical-align: top;\n",
       "    }\n",
       "\n",
       "    .dataframe thead th {\n",
       "        text-align: right;\n",
       "    }\n",
       "</style>\n",
       "<table border=\"1\" class=\"dataframe\">\n",
       "  <thead>\n",
       "    <tr style=\"text-align: right;\">\n",
       "      <th></th>\n",
       "      <th>Estudiante</th>\n",
       "      <th>Edad</th>\n",
       "      <th>Género</th>\n",
       "      <th>Nota_Matemáticas</th>\n",
       "      <th>Nota_Ciencias</th>\n",
       "      <th>Nota_Inglés</th>\n",
       "      <th>Notas_Ciencias</th>\n",
       "    </tr>\n",
       "  </thead>\n",
       "  <tbody>\n",
       "    <tr>\n",
       "      <th>3</th>\n",
       "      <td>E4</td>\n",
       "      <td>24</td>\n",
       "      <td>Masculino</td>\n",
       "      <td>69.7</td>\n",
       "      <td>89.4</td>\n",
       "      <td>75.2</td>\n",
       "      <td>NaN</td>\n",
       "    </tr>\n",
       "    <tr>\n",
       "      <th>7</th>\n",
       "      <td>E8</td>\n",
       "      <td>24</td>\n",
       "      <td>Masculino</td>\n",
       "      <td>89.1</td>\n",
       "      <td>89.3</td>\n",
       "      <td>68.6</td>\n",
       "      <td>NaN</td>\n",
       "    </tr>\n",
       "    <tr>\n",
       "      <th>8</th>\n",
       "      <td>E9</td>\n",
       "      <td>19</td>\n",
       "      <td>Masculino</td>\n",
       "      <td>49.7</td>\n",
       "      <td>84.4</td>\n",
       "      <td>62.5</td>\n",
       "      <td>NaN</td>\n",
       "    </tr>\n",
       "    <tr>\n",
       "      <th>15</th>\n",
       "      <td>E16</td>\n",
       "      <td>20</td>\n",
       "      <td>Femenino</td>\n",
       "      <td>58.4</td>\n",
       "      <td>83.7</td>\n",
       "      <td>74.6</td>\n",
       "      <td>NaN</td>\n",
       "    </tr>\n",
       "  </tbody>\n",
       "</table>\n",
       "</div>"
      ],
      "text/plain": [
       "   Estudiante  Edad     Género  Nota_Matemáticas  Nota_Ciencias  Nota_Inglés  \\\n",
       "3          E4    24  Masculino              69.7           89.4         75.2   \n",
       "7          E8    24  Masculino              89.1           89.3         68.6   \n",
       "8          E9    19  Masculino              49.7           84.4         62.5   \n",
       "15        E16    20   Femenino              58.4           83.7         74.6   \n",
       "\n",
       "    Notas_Ciencias  \n",
       "3              NaN  \n",
       "7              NaN  \n",
       "8              NaN  \n",
       "15             NaN  "
      ]
     },
     "execution_count": 87,
     "metadata": {},
     "output_type": "execute_result"
    }
   ],
   "source": [
    "df.drop(columns='Notas_Ciencias') #elimino la columna\n",
    "df[(df['Nota_Ciencias'] > 83) & (df['Nota_Ciencias'] < 94)] #busca las notas de ciencias que esten entre ese rango"
   ]
  },
  {
   "cell_type": "code",
   "execution_count": 91,
   "id": "94760a88",
   "metadata": {},
   "outputs": [
    {
     "data": {
      "image/png": "[encoded data removed]",
      "text/plain": [
       "<Figure size 800x500 with 1 Axes>"
      ]
     },
     "metadata": {},
     "output_type": "display_data"
    }
   ],
   "source": [
    "promedios_genero.plot(kind='bar',figsize=(8,5),colormap='viridis')\n",
    "plt.ylabel('promedios')\n",
    "plt.show()"
   ]
  },
  {
   "cell_type": "code",
   "execution_count": null,
   "id": "bfe08f90",
   "metadata": {},
   "outputs": [
    {
     "data": {
      "text/html": [
       "<div>\n",
       "<style scoped>\n",
       "    .dataframe tbody tr th:only-of-type {\n",
       "        vertical-align: middle;\n",
       "    }\n",
       "\n",
       "    .dataframe tbody tr th {\n",
       "        vertical-align: top;\n",
       "    }\n",
       "\n",
       "    .dataframe thead th {\n",
       "        text-align: right;\n",
       "    }\n",
       "</style>\n",
       "<table border=\"1\" class=\"dataframe\">\n",
       "  <thead>\n",
       "    <tr style=\"text-align: right;\">\n",
       "      <th></th>\n",
       "      <th>Edad</th>\n",
       "      <th>Nota_Matemáticas</th>\n",
       "      <th>Nota_Ciencias</th>\n",
       "      <th>Nota_Inglés</th>\n",
       "      <th>Notas_Ciencias</th>\n",
       "    </tr>\n",
       "  </thead>\n",
       "  <tbody>\n",
       "    <tr>\n",
       "      <th>Edad</th>\n",
       "      <td>1.000000</td>\n",
       "      <td>0.483522</td>\n",
       "      <td>-0.179197</td>\n",
       "      <td>-0.127124</td>\n",
       "      <td>NaN</td>\n",
       "    </tr>\n",
       "    <tr>\n",
       "      <th>Nota_Matemáticas</th>\n",
       "      <td>0.483522</td>\n",
       "      <td>1.000000</td>\n",
       "      <td>0.138476</td>\n",
       "      <td>0.228811</td>\n",
       "      <td>NaN</td>\n",
       "    </tr>\n",
       "    <tr>\n",
       "      <th>Nota_Ciencias</th>\n",
       "      <td>-0.179197</td>\n",
       "      <td>0.138476</td>\n",
       "      <td>1.000000</td>\n",
       "      <td>0.358039</td>\n",
       "      <td>NaN</td>\n",
       "    </tr>\n",
       "    <tr>\n",
       "      <th>Nota_Inglés</th>\n",
       "      <td>-0.127124</td>\n",
       "      <td>0.228811</td>\n",
       "      <td>0.358039</td>\n",
       "      <td>1.000000</td>\n",
       "      <td>NaN</td>\n",
       "    </tr>\n",
       "    <tr>\n",
       "      <th>Notas_Ciencias</th>\n",
       "      <td>NaN</td>\n",
       "      <td>NaN</td>\n",
       "      <td>NaN</td>\n",
       "      <td>NaN</td>\n",
       "      <td>NaN</td>\n",
       "    </tr>\n",
       "  </tbody>\n",
       "</table>\n",
       "</div>"
      ],
      "text/plain": [
       "                      Edad  Nota_Matemáticas  Nota_Ciencias  Nota_Inglés  \\\n",
       "Edad              1.000000          0.483522      -0.179197    -0.127124   \n",
       "Nota_Matemáticas  0.483522          1.000000       0.138476     0.228811   \n",
       "Nota_Ciencias    -0.179197          0.138476       1.000000     0.358039   \n",
       "Nota_Inglés      -0.127124          0.228811       0.358039     1.000000   \n",
       "Notas_Ciencias         NaN               NaN            NaN          NaN   \n",
       "\n",
       "                  Notas_Ciencias  \n",
       "Edad                         NaN  \n",
       "Nota_Matemáticas             NaN  \n",
       "Nota_Ciencias                NaN  \n",
       "Nota_Inglés                  NaN  \n",
       "Notas_Ciencias               NaN  "
      ]
     },
     "execution_count": 94,
     "metadata": {},
     "output_type": "execute_result"
    }
   ],
   "source": [
    "variables_numericas=df.select_dtypes(include=[int,float])\n",
    "correlacion=variables_numericas.corr()#muestra la matriz de correlacion\n",
    "correlacion#la significa que tanto incrementa una con respecto a la otra"
   ]
  },
  {
   "cell_type": "code",
   "execution_count": 108,
   "id": "7f1cc7fc",
   "metadata": {},
   "outputs": [
    {
     "data": {
      "image/png": "[encoded data removed]",
      "text/plain": [
       "<Figure size 640x480 with 2 Axes>"
      ]
     },
     "metadata": {},
     "output_type": "display_data"
    }
   ],
   "source": [
    "#Mapa de calor para mostrar la correlacion\n",
    "# Crear un dataset simulado (asegúrate de tener este paso antes si no lo tienes)\n",
    "np.random.seed(42)\n",
    "data = {\n",
    "    \"Estudiante\": [f\"E{i}\" for i in range(1, 21)],\n",
    "    \"Edad\": np.random.randint(18, 25, size=20),\n",
    "    \"Género\": np.random.choice([\"Femenino\", \"Masculino\"], size=20),\n",
    "    \"Nota_Matemáticas\": np.random.normal(70, 10, size=20).round(1),\n",
    "    \"Nota_Ciencias\": np.random.normal(75, 12, size=20).round(1),\n",
    "    \"Nota_Inglés\": np.random.normal(65, 15, size=20).round(1),\n",
    "}\n",
    "df = pd.DataFrame(data)\n",
    "\n",
    "# Seleccionar solo las variables numéricas (int y float)\n",
    "variables_numericas = df.select_dtypes(include=[\"int\", \"float\"])\n",
    "\n",
    "# Calcular la matriz de correlación\n",
    "correlaciones = variables_numericas.corr()\n",
    "# Create a mask to hide the lower triangle of the matrix\n",
    "mask = np.triu(np.ones_like(correlaciones, dtype=bool))\n",
    "\n",
    "# Crear el mapa de calor\n",
    "sns.heatmap(correlaciones, annot=True, cmap=\"coolwarm\", fmt=\".2f\", mask=mask)\n",
    "\n",
    "# Añadir título al gráfico\n",
    "plt.title(\"Mapa de Calor de Correlaciones\")\n",
    "\n",
    "# Mostrar el gráfico\n",
    "plt.show()"
   ]
  },
  {
   "cell_type": "code",
   "execution_count": null,
   "id": "8dae5924",
   "metadata": {},
   "outputs": [
    {
     "data": {
      "text/html": [
       "<div>\n",
       "<style scoped>\n",
       "    .dataframe tbody tr th:only-of-type {\n",
       "        vertical-align: middle;\n",
       "    }\n",
       "\n",
       "    .dataframe tbody tr th {\n",
       "        vertical-align: top;\n",
       "    }\n",
       "\n",
       "    .dataframe thead th {\n",
       "        text-align: right;\n",
       "    }\n",
       "</style>\n",
       "<table border=\"1\" class=\"dataframe\">\n",
       "  <thead>\n",
       "    <tr style=\"text-align: right;\">\n",
       "      <th></th>\n",
       "      <th>Estudiante</th>\n",
       "      <th>Edad</th>\n",
       "      <th>Género</th>\n",
       "      <th>Nota_Matemáticas</th>\n",
       "      <th>Nota_Ciencias</th>\n",
       "      <th>Nota_Inglés</th>\n",
       "      <th>Aprobado_Matemáticas</th>\n",
       "    </tr>\n",
       "  </thead>\n",
       "  <tbody>\n",
       "    <tr>\n",
       "      <th>0</th>\n",
       "      <td>E1</td>\n",
       "      <td>24</td>\n",
       "      <td>Masculino</td>\n",
       "      <td>72.2</td>\n",
       "      <td>69.5</td>\n",
       "      <td>41.6</td>\n",
       "      <td>Sí</td>\n",
       "    </tr>\n",
       "    <tr>\n",
       "      <th>1</th>\n",
       "      <td>E2</td>\n",
       "      <td>21</td>\n",
       "      <td>Masculino</td>\n",
       "      <td>62.3</td>\n",
       "      <td>75.8</td>\n",
       "      <td>53.1</td>\n",
       "      <td>Sí</td>\n",
       "    </tr>\n",
       "    <tr>\n",
       "      <th>2</th>\n",
       "      <td>E3</td>\n",
       "      <td>22</td>\n",
       "      <td>Masculino</td>\n",
       "      <td>71.4</td>\n",
       "      <td>72.9</td>\n",
       "      <td>79.0</td>\n",
       "      <td>Sí</td>\n",
       "    </tr>\n",
       "    <tr>\n",
       "      <th>3</th>\n",
       "      <td>E4</td>\n",
       "      <td>24</td>\n",
       "      <td>Masculino</td>\n",
       "      <td>69.7</td>\n",
       "      <td>89.4</td>\n",
       "      <td>75.2</td>\n",
       "      <td>Sí</td>\n",
       "    </tr>\n",
       "    <tr>\n",
       "      <th>4</th>\n",
       "      <td>E5</td>\n",
       "      <td>20</td>\n",
       "      <td>Masculino</td>\n",
       "      <td>81.3</td>\n",
       "      <td>83.4</td>\n",
       "      <td>75.5</td>\n",
       "      <td>Sí</td>\n",
       "    </tr>\n",
       "    <tr>\n",
       "      <th>5</th>\n",
       "      <td>E6</td>\n",
       "      <td>22</td>\n",
       "      <td>Femenino</td>\n",
       "      <td>69.0</td>\n",
       "      <td>72.9</td>\n",
       "      <td>67.6</td>\n",
       "      <td>Sí</td>\n",
       "    </tr>\n",
       "    <tr>\n",
       "      <th>6</th>\n",
       "      <td>E7</td>\n",
       "      <td>22</td>\n",
       "      <td>Femenino</td>\n",
       "      <td>64.7</td>\n",
       "      <td>64.1</td>\n",
       "      <td>74.9</td>\n",
       "      <td>Sí</td>\n",
       "    </tr>\n",
       "    <tr>\n",
       "      <th>7</th>\n",
       "      <td>E8</td>\n",
       "      <td>24</td>\n",
       "      <td>Masculino</td>\n",
       "      <td>89.1</td>\n",
       "      <td>89.3</td>\n",
       "      <td>68.6</td>\n",
       "      <td>Sí</td>\n",
       "    </tr>\n",
       "    <tr>\n",
       "      <th>8</th>\n",
       "      <td>E9</td>\n",
       "      <td>19</td>\n",
       "      <td>Masculino</td>\n",
       "      <td>49.7</td>\n",
       "      <td>84.4</td>\n",
       "      <td>62.5</td>\n",
       "      <td>No</td>\n",
       "    </tr>\n",
       "    <tr>\n",
       "      <th>9</th>\n",
       "      <td>E10</td>\n",
       "      <td>20</td>\n",
       "      <td>Masculino</td>\n",
       "      <td>81.2</td>\n",
       "      <td>106.9</td>\n",
       "      <td>82.5</td>\n",
       "      <td>Sí</td>\n",
       "    </tr>\n",
       "    <tr>\n",
       "      <th>10</th>\n",
       "      <td>E11</td>\n",
       "      <td>24</td>\n",
       "      <td>Femenino</td>\n",
       "      <td>77.8</td>\n",
       "      <td>78.2</td>\n",
       "      <td>61.3</td>\n",
       "      <td>Sí</td>\n",
       "    </tr>\n",
       "    <tr>\n",
       "      <th>11</th>\n",
       "      <td>E12</td>\n",
       "      <td>20</td>\n",
       "      <td>Masculino</td>\n",
       "      <td>59.0</td>\n",
       "      <td>94.7</td>\n",
       "      <td>53.5</td>\n",
       "      <td>No</td>\n",
       "    </tr>\n",
       "    <tr>\n",
       "      <th>12</th>\n",
       "      <td>E13</td>\n",
       "      <td>20</td>\n",
       "      <td>Femenino</td>\n",
       "      <td>81.3</td>\n",
       "      <td>80.5</td>\n",
       "      <td>83.2</td>\n",
       "      <td>Sí</td>\n",
       "    </tr>\n",
       "    <tr>\n",
       "      <th>13</th>\n",
       "      <td>E14</td>\n",
       "      <td>22</td>\n",
       "      <td>Femenino</td>\n",
       "      <td>73.7</td>\n",
       "      <td>76.0</td>\n",
       "      <td>83.5</td>\n",
       "      <td>Sí</td>\n",
       "    </tr>\n",
       "    <tr>\n",
       "      <th>14</th>\n",
       "      <td>E15</td>\n",
       "      <td>21</td>\n",
       "      <td>Femenino</td>\n",
       "      <td>66.1</td>\n",
       "      <td>56.9</td>\n",
       "      <td>41.4</td>\n",
       "      <td>Sí</td>\n",
       "    </tr>\n",
       "    <tr>\n",
       "      <th>15</th>\n",
       "      <td>E16</td>\n",
       "      <td>20</td>\n",
       "      <td>Femenino</td>\n",
       "      <td>58.4</td>\n",
       "      <td>83.7</td>\n",
       "      <td>74.6</td>\n",
       "      <td>No</td>\n",
       "    </tr>\n",
       "    <tr>\n",
       "      <th>16</th>\n",
       "      <td>E17</td>\n",
       "      <td>23</td>\n",
       "      <td>Femenino</td>\n",
       "      <td>75.7</td>\n",
       "      <td>64.9</td>\n",
       "      <td>34.3</td>\n",
       "      <td>Sí</td>\n",
       "    </tr>\n",
       "    <tr>\n",
       "      <th>17</th>\n",
       "      <td>E18</td>\n",
       "      <td>22</td>\n",
       "      <td>Masculino</td>\n",
       "      <td>63.0</td>\n",
       "      <td>68.8</td>\n",
       "      <td>81.0</td>\n",
       "      <td>Sí</td>\n",
       "    </tr>\n",
       "    <tr>\n",
       "      <th>18</th>\n",
       "      <td>E19</td>\n",
       "      <td>19</td>\n",
       "      <td>Masculino</td>\n",
       "      <td>56.2</td>\n",
       "      <td>74.5</td>\n",
       "      <td>51.0</td>\n",
       "      <td>No</td>\n",
       "    </tr>\n",
       "    <tr>\n",
       "      <th>19</th>\n",
       "      <td>E20</td>\n",
       "      <td>21</td>\n",
       "      <td>Masculino</td>\n",
       "      <td>66.5</td>\n",
       "      <td>71.7</td>\n",
       "      <td>76.8</td>\n",
       "      <td>Sí</td>\n",
       "    </tr>\n",
       "  </tbody>\n",
       "</table>\n",
       "</div>"
      ],
      "text/plain": [
       "   Estudiante  Edad     Género  Nota_Matemáticas  Nota_Ciencias  Nota_Inglés  \\\n",
       "0          E1    24  Masculino              72.2           69.5         41.6   \n",
       "1          E2    21  Masculino              62.3           75.8         53.1   \n",
       "2          E3    22  Masculino              71.4           72.9         79.0   \n",
       "3          E4    24  Masculino              69.7           89.4         75.2   \n",
       "4          E5    20  Masculino              81.3           83.4         75.5   \n",
       "5          E6    22   Femenino              69.0           72.9         67.6   \n",
       "6          E7    22   Femenino              64.7           64.1         74.9   \n",
       "7          E8    24  Masculino              89.1           89.3         68.6   \n",
       "8          E9    19  Masculino              49.7           84.4         62.5   \n",
       "9         E10    20  Masculino              81.2          106.9         82.5   \n",
       "10        E11    24   Femenino              77.8           78.2         61.3   \n",
       "11        E12    20  Masculino              59.0           94.7         53.5   \n",
       "12        E13    20   Femenino              81.3           80.5         83.2   \n",
       "13        E14    22   Femenino              73.7           76.0         83.5   \n",
       "14        E15    21   Femenino              66.1           56.9         41.4   \n",
       "15        E16    20   Femenino              58.4           83.7         74.6   \n",
       "16        E17    23   Femenino              75.7           64.9         34.3   \n",
       "17        E18    22  Masculino              63.0           68.8         81.0   \n",
       "18        E19    19  Masculino              56.2           74.5         51.0   \n",
       "19        E20    21  Masculino              66.5           71.7         76.8   \n",
       "\n",
       "   Aprobado_Matemáticas  \n",
       "0                    Sí  \n",
       "1                    Sí  \n",
       "2                    Sí  \n",
       "3                    Sí  \n",
       "4                    Sí  \n",
       "5                    Sí  \n",
       "6                    Sí  \n",
       "7                    Sí  \n",
       "8                    No  \n",
       "9                    Sí  \n",
       "10                   Sí  \n",
       "11                   No  \n",
       "12                   Sí  \n",
       "13                   Sí  \n",
       "14                   Sí  \n",
       "15                   No  \n",
       "16                   Sí  \n",
       "17                   Sí  \n",
       "18                   No  \n",
       "19                   Sí  "
      ]
     },
     "execution_count": 110,
     "metadata": {},
     "output_type": "execute_result"
    }
   ],
   "source": [
    "df[\"Aprobado_Matemáticas\"] = df[\"Nota_Matemáticas\"].apply(lambda x: \"Sí\" if x >= 60 else \"No\")# crea una nueva columna donde dice si pasas o no\n",
    "df"
   ]
  },
  {
   "cell_type": "code",
   "execution_count": 113,
   "id": "5917cf6d",
   "metadata": {},
   "outputs": [
    {
     "data": {
      "image/png": "[encoded data removed]",
      "text/plain": [
       "<Figure size 640x480 with 1 Axes>"
      ]
     },
     "metadata": {},
     "output_type": "display_data"
    }
   ],
   "source": [
    "apobaciones=df.Aprobado_Matemáticas.value_counts()\n",
    "apobaciones.plot(kind='pie', autopct=\"%1.1f%%\")\n",
    "plt.show()"
   ]
  }
 ],
 "metadata": {
  "kernelspec": {
   "display_name": ".venv",
   "language": "python",
   "name": "python3"
  },
  "language_info": {
   "codemirror_mode": {
    "name": "ipython",
    "version": 3
   },
   "file_extension": ".py",
   "mimetype": "text/x-python",
   "name": "python",
   "nbconvert_exporter": "python",
   "pygments_lexer": "ipython3",
   "version": "3.13.7"
  }
 },
 "nbformat": 4,
 "nbformat_minor": 5
}
